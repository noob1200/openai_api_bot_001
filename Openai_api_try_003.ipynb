{
  "nbformat": 4,
  "nbformat_minor": 0,
  "metadata": {
    "colab": {
      "provenance": [],
      "gpuType": "T4",
      "include_colab_link": true
    },
    "kernelspec": {
      "name": "python3",
      "display_name": "Python 3"
    },
    "language_info": {
      "name": "python"
    }
  },
  "cells": [
    {
      "cell_type": "markdown",
      "metadata": {
        "id": "view-in-github",
        "colab_type": "text"
      },
      "source": [
        "<a href=\"https://colab.research.google.com/github/noob1200/openai_api_bot_001/blob/main/Openai_api_try_003.ipynb\" target=\"_parent\"><img src=\"https://colab.research.google.com/assets/colab-badge.svg\" alt=\"Open In Colab\"/></a>"
      ]
    },
    {
      "cell_type": "markdown",
      "metadata": {
        "id": "8kW_qXJVTjic"
      },
      "source": [
        "# ファインチューニングのモデル試作\n",
        "StreamlitとOpen APIを使い、ファインチューニングの実践練習"
      ]
    },
    {
      "cell_type": "markdown",
      "source": [
        "## ライブラリのインストール\n",
        "Streamlit、およびアプリの動作の確認に使用する「ngrok」をインストールします。  \n",
        "また、ChatGPT APIを使用するために必要なライブラリ、openaiをインストールします。  "
      ],
      "metadata": {
        "id": "vRJCuxALcgkb"
      }
    },
    {
      "cell_type": "code",
      "execution_count": null,
      "metadata": {
        "id": "Pbqipzj3nCy4",
        "colab": {
          "base_uri": "https://localhost:8080/"
        },
        "outputId": "2d60b9fc-8588-4f8d-b1ea-0b14482763c7"
      },
      "outputs": [
        {
          "output_type": "stream",
          "name": "stdout",
          "text": [
            "Requirement already satisfied: openai in /usr/local/lib/python3.10/dist-packages (0.27.8)\n",
            "Requirement already satisfied: requests>=2.20 in /usr/local/lib/python3.10/dist-packages (from openai) (2.31.0)\n",
            "Requirement already satisfied: tqdm in /usr/local/lib/python3.10/dist-packages (from openai) (4.66.1)\n",
            "Requirement already satisfied: aiohttp in /usr/local/lib/python3.10/dist-packages (from openai) (3.8.5)\n",
            "Requirement already satisfied: charset-normalizer<4,>=2 in /usr/local/lib/python3.10/dist-packages (from requests>=2.20->openai) (3.2.0)\n",
            "Requirement already satisfied: idna<4,>=2.5 in /usr/local/lib/python3.10/dist-packages (from requests>=2.20->openai) (3.4)\n",
            "Requirement already satisfied: urllib3<3,>=1.21.1 in /usr/local/lib/python3.10/dist-packages (from requests>=2.20->openai) (2.0.4)\n",
            "Requirement already satisfied: certifi>=2017.4.17 in /usr/local/lib/python3.10/dist-packages (from requests>=2.20->openai) (2023.7.22)\n",
            "Requirement already satisfied: attrs>=17.3.0 in /usr/local/lib/python3.10/dist-packages (from aiohttp->openai) (23.1.0)\n",
            "Requirement already satisfied: multidict<7.0,>=4.5 in /usr/local/lib/python3.10/dist-packages (from aiohttp->openai) (6.0.4)\n",
            "Requirement already satisfied: async-timeout<5.0,>=4.0.0a3 in /usr/local/lib/python3.10/dist-packages (from aiohttp->openai) (4.0.3)\n",
            "Requirement already satisfied: yarl<2.0,>=1.0 in /usr/local/lib/python3.10/dist-packages (from aiohttp->openai) (1.9.2)\n",
            "Requirement already satisfied: frozenlist>=1.1.1 in /usr/local/lib/python3.10/dist-packages (from aiohttp->openai) (1.4.0)\n",
            "Requirement already satisfied: aiosignal>=1.1.2 in /usr/local/lib/python3.10/dist-packages (from aiohttp->openai) (1.3.1)\n"
          ]
        }
      ],
      "source": [
        "!pip install streamlit==1.20.0 --quiet\n",
        "!pip install pyngrok==4.1.1 --quiet\n",
        "!pip install openai"
      ]
    },
    {
      "cell_type": "markdown",
      "source": [
        "インストールの完了後、streamlit、ngrok、およびopenaiをインポートしておきます。"
      ],
      "metadata": {
        "id": "husUkYy5dhZ4"
      }
    },
    {
      "cell_type": "code",
      "source": [
        "import streamlit as st\n",
        "from pyngrok import ngrok\n",
        "import openai"
      ],
      "metadata": {
        "id": "OsHcq-kaDwIi"
      },
      "execution_count": null,
      "outputs": []
    },
    {
      "cell_type": "markdown",
      "source": [
        "## .csvファイルのアップロード\n",
        "ファインチューニングに使うファイルをアップロードします。  \n"
      ],
      "metadata": {
        "id": "-n80MNi5SJoE"
      }
    },
    {
      "cell_type": "markdown",
      "source": [
        "-----------------------------------------------------------------------------\n",
        "## ファインチューニングを行うWebアプリのメインコード\n",
        "`%%writefile`のマジックコマンドを使って、チャットボットのコードを「app.py」に書き込みます。  \n",
        "ここで、APIを別ファイルに分けることで公開時にAPIをそのまま公開しないようにする\n",
        "\n",
        "-----------------------------------------------------------------------------"
      ],
      "metadata": {
        "id": "5fOtVgU5duPe"
      }
    },
    {
      "cell_type": "code",
      "source": [
        "import streamlit as st\n",
        "import openai\n",
        "import secret_keys  # 外部ファイルにAPI keyを保存\n",
        "import os\n",
        "\n",
        "openai.api_key = \"\"\n",
        "\n",
        "response = openai.Completion.create(\n",
        "  engine=\"davinci\",\n",
        "  prompt=\"I'm happy.\",\n",
        "  temperature=0.7,\n",
        "  max_tokens=64,\n",
        "  top_p=1,\n",
        "  frequency_penalty=0,\n",
        "  presence_penalty=0\n",
        ")\n",
        "print(response)\n"
      ],
      "metadata": {
        "id": "Ntj_BU3bnJli",
        "colab": {
          "base_uri": "https://localhost:8080/"
        },
        "outputId": "7571c2e5-28e4-4ca8-cc96-ec63844c8e3d"
      },
      "execution_count": null,
      "outputs": [
        {
          "output_type": "stream",
          "name": "stdout",
          "text": [
            "{\n",
            "  \"id\": \"cmpl-7oPW7i8MWJUIATACGb5QEQmeck6QS\",\n",
            "  \"object\": \"text_completion\",\n",
            "  \"created\": 1692248843,\n",
            "  \"model\": \"davinci\",\n",
            "  \"choices\": [\n",
            "    {\n",
            "      \"text\": \" I'm really happy that we were able to get this done.\\\"\\n\\nThe deal, which is worth about $9.5 million, brings an end to a months-long stalemate between the two sides.\\n\\nEleven months ago, the Lakers acquired Howard in a four-team megadeal that sent\",\n",
            "      \"index\": 0,\n",
            "      \"logprobs\": null,\n",
            "      \"finish_reason\": \"length\"\n",
            "    }\n",
            "  ],\n",
            "  \"usage\": {\n",
            "    \"prompt_tokens\": 4,\n",
            "    \"completion_tokens\": 64,\n",
            "    \"total_tokens\": 68\n",
            "  }\n",
            "}\n"
          ]
        }
      ]
    },
    {
      "cell_type": "markdown",
      "source": [
        "## CSVをJSONLに変換する\n",
        "\n",
        "〇〇.csv→〇〇.jsonl生成\n",
        "（一回生成したら、用済み。コメントアウト又は削除）"
      ],
      "metadata": {
        "id": "Xhm4Zg7fzqON"
      }
    },
    {
      "cell_type": "code",
      "source": [
        "# import pandas as pd\n",
        "\n",
        "#データセットの準備\n",
        "\n",
        "# df =pd.read_csv(\n",
        "#     'tsukuyomi.csv',\n",
        "#     usecols=[1,2],\n",
        "#     names = ['prompt','completion'],\n",
        "#     skiprows=2\n",
        "# )\n",
        "# df.to_json(\n",
        "#     \"tsukuyomi.jsonl\",\n",
        "#     orient='records',\n",
        "#     lines= True,\n",
        "#     force_ascii=False\n",
        "# )"
      ],
      "metadata": {
        "id": "K9EolAytz43C"
      },
      "execution_count": null,
      "outputs": []
    },
    {
      "cell_type": "markdown",
      "source": [
        "## データセットの検証\n",
        "openaiパッケージで提供している「検証ツール」を使って、データせっとの検証を行う。この検証ツールは、修正案を出すだけではなく、修正じたいも自動的に行うことが出来ます。\n",
        "\n",
        "〇〇.jsonl→〇〇_prepared.jsonlが生成\n",
        "（一回生成したら、用済み。コメントアウト又は削除）"
      ],
      "metadata": {
        "id": "lYc8GYia0eEK"
      }
    },
    {
      "cell_type": "code",
      "source": [
        "# データセットの検証\n",
        "\n",
        "# !openai tools fine_tunes.prepare_data \\\n",
        "#     -f tsukuyomi.jsonl \\\n",
        "#     -q"
      ],
      "metadata": {
        "colab": {
          "base_uri": "https://localhost:8080/"
        },
        "id": "rvyZtVzY0GNF",
        "outputId": "ca8de619-fdd1-4d0f-824a-ef4b9675d559"
      },
      "execution_count": null,
      "outputs": [
        {
          "output_type": "stream",
          "name": "stdout",
          "text": [
            "Analyzing...\n",
            "\n",
            "- Your file contains 469 prompt-completion pairs\n",
            "- There are 2 duplicated prompt-completion sets. These are rows: [438, 439]\n",
            "- More than a third of your `prompt` column/key is uppercase. Uppercase prompts tends to perform worse than a mixture of case encountered in normal language. We recommend to lower case the data if that makes sense in your domain. See https://platform.openai.com/docs/guides/fine-tuning/preparing-your-dataset for more details\n",
            "- More than a third of your `completion` column/key is uppercase. Uppercase completions tends to perform worse than a mixture of case encountered in normal language. We recommend to lower case the data if that makes sense in your domain. See https://platform.openai.com/docs/guides/fine-tuning/preparing-your-dataset for more details\n",
            "- Your data does not contain a common separator at the end of your prompts. Having a separator string appended to the end of the prompt makes it clearer to the fine-tuned model where the completion should begin. See https://platform.openai.com/docs/guides/fine-tuning/preparing-your-dataset for more detail and examples. If you intend to do open-ended generation, then you should leave the prompts empty\n",
            "- Your data does not contain a common ending at the end of your completions. Having a common ending string appended to the end of the completion makes it clearer to the fine-tuned model where the completion should end. See https://platform.openai.com/docs/guides/fine-tuning/preparing-your-dataset for more detail and examples.\n",
            "- The completion should start with a whitespace character (` `). This tends to produce better results due to the tokenization we use. See https://platform.openai.com/docs/guides/fine-tuning/preparing-your-dataset for more details\n",
            "\n",
            "Based on the analysis we will perform the following actions:\n",
            "- [Recommended] Remove 2 duplicate rows [Y/n]: Y\n",
            "- [Recommended] Lowercase all your data in column/key `prompt` [Y/n]: Y\n",
            "/usr/local/lib/python3.10/dist-packages/openai/validators.py:452: SettingWithCopyWarning: \n",
            "A value is trying to be set on a copy of a slice from a DataFrame.\n",
            "Try using .loc[row_indexer,col_indexer] = value instead\n",
            "\n",
            "See the caveats in the documentation: https://pandas.pydata.org/pandas-docs/stable/user_guide/indexing.html#returning-a-view-versus-a-copy\n",
            "  x[column] = x[column].str.lower()\n",
            "- [Recommended] Lowercase all your data in column/key `completion` [Y/n]: Y\n",
            "- [Recommended] Add a suffix separator ` ->` to all prompts [Y/n]: Y\n",
            "/usr/local/lib/python3.10/dist-packages/openai/validators.py:226: SettingWithCopyWarning: \n",
            "A value is trying to be set on a copy of a slice from a DataFrame.\n",
            "Try using .loc[row_indexer,col_indexer] = value instead\n",
            "\n",
            "See the caveats in the documentation: https://pandas.pydata.org/pandas-docs/stable/user_guide/indexing.html#returning-a-view-versus-a-copy\n",
            "  x[\"prompt\"] += suffix\n",
            "- [Recommended] Add a suffix ending `\\n` to all completions [Y/n]: Y\n",
            "/usr/local/lib/python3.10/dist-packages/openai/validators.py:382: SettingWithCopyWarning: \n",
            "A value is trying to be set on a copy of a slice from a DataFrame.\n",
            "Try using .loc[row_indexer,col_indexer] = value instead\n",
            "\n",
            "See the caveats in the documentation: https://pandas.pydata.org/pandas-docs/stable/user_guide/indexing.html#returning-a-view-versus-a-copy\n",
            "  x[\"completion\"] += suffix\n",
            "- [Recommended] Add a whitespace character to the beginning of the completion [Y/n]: Y\n",
            "/usr/local/lib/python3.10/dist-packages/openai/validators.py:425: SettingWithCopyWarning: \n",
            "A value is trying to be set on a copy of a slice from a DataFrame.\n",
            "Try using .loc[row_indexer,col_indexer] = value instead\n",
            "\n",
            "See the caveats in the documentation: https://pandas.pydata.org/pandas-docs/stable/user_guide/indexing.html#returning-a-view-versus-a-copy\n",
            "  x[\"completion\"] = x[\"completion\"].apply(\n",
            "\n",
            "\n",
            "Your data will be written to a new JSONL file. Proceed [Y/n]: Y\n",
            "\n",
            "Wrote modified file to `tsukuyomi_prepared (1).jsonl`\n",
            "Feel free to take a look!\n",
            "\n",
            "Now use that file when fine-tuning:\n",
            "> openai api fine_tunes.create -t \"tsukuyomi_prepared (1).jsonl\"\n",
            "\n",
            "After you’ve fine-tuned a model, remember that your prompt has to end with the indicator string ` ->` for the model to start generating completions, rather than continuing with the prompt. Make sure to include `stop=[\"\\n\"]` so that the generated texts ends at the expected place.\n",
            "Once your model starts training, it'll approximately take 26.16 minutes to train a `curie` model, and less for `ada` and `babbage`. Queue will approximately take half an hour per job ahead of you.\n"
          ]
        }
      ]
    },
    {
      "cell_type": "markdown",
      "source": [
        "## OpenAIのAPI keyを設定\n",
        "Open APIを使用するために必要な「API key」を設定します。  \n",
        "`%%writefile`のマジックコマンドを使って、API keyを設定するコードを「secret_keys.py」に書き込みます。  \n",
        "\n"
      ],
      "metadata": {
        "id": "pCvWZuvqQvyC"
      }
    },
    {
      "cell_type": "code",
      "source": [
        "# %%writefile secret_keys.py\n",
        "\n",
        "# openai_api_key = \"\""
      ],
      "metadata": {
        "id": "4lkJr3dk89bD"
      },
      "execution_count": null,
      "outputs": []
    },
    {
      "cell_type": "markdown",
      "source": [
        "API keyの流出にはリスクがあります。  \n",
        "他者に知られないように、慎重に扱ってください。"
      ],
      "metadata": {
        "id": "2lEUNEp9n95k"
      }
    },
    {
      "cell_type": "markdown",
      "source": [
        "## ngrokのAuthtokenを設定\n",
        "ngrokで接続するために必要な「Authtoken」を設定します。  \n",
        "以下のコードの、  \n",
        "`!ngrok authtoken YourAuthtoken`  \n",
        "における  \n",
        "`YourAuthtoken`の箇所を、自分のAuthtokenに置き換えます。  \n",
        "Authtokenは、ngrokのサイトに登録すれば取得することができます。  \n",
        "https://ngrok.com/\n"
      ],
      "metadata": {
        "id": "j03EsJaHh4KK"
      }
    },
    {
      "cell_type": "code",
      "source": [
        "!ngrok authtoken"
      ],
      "metadata": {
        "id": "mTfmORj2Dn7-",
        "colab": {
          "base_uri": "https://localhost:8080/"
        },
        "outputId": "13857b59-bd7a-4462-fc0b-8de0d585ce5b"
      },
      "execution_count": null,
      "outputs": [
        {
          "output_type": "stream",
          "name": "stdout",
          "text": [
            "Authtoken saved to configuration file: /root/.ngrok2/ngrok.yml\n"
          ]
        }
      ]
    },
    {
      "cell_type": "markdown",
      "source": [
        "ngrokのAuthtokenも、他者に知られないように慎重に扱ってください。"
      ],
      "metadata": {
        "id": "c_QaXaeyZHTJ"
      }
    },
    {
      "cell_type": "markdown",
      "source": [
        "##ファインチューニングの実行\n",
        "**実行後は、誤作動を避けるためすぐにコメントアウト（学習資材によって料金がかなりかかる）**"
      ],
      "metadata": {
        "id": "VicMz1IZ1mrn"
      }
    },
    {
      "cell_type": "code",
      "source": [
        "# ファインチューニングの実行\n",
        "\n",
        "# !openai api fine_tunes.create \\\n",
        "#    -t \"tsukuyomi_prepared.jsonl\" \\\n",
        "#    -m davinci"
      ],
      "metadata": {
        "id": "2tdxpCeO1-CZ"
      },
      "execution_count": null,
      "outputs": []
    },
    {
      "cell_type": "markdown",
      "source": [
        "-----------------------------------------------------------------------------\n",
        "##【ストリームの対応】\n",
        "\n",
        "####ストリームの再開\n",
        "####ジョブの状態確認\n",
        "####ファインチューニングのモデル一覧取得\n",
        "####ファインチューニングのモデル削除\n",
        "\n",
        "\n",
        "\n",
        "\n",
        "\n",
        "\n",
        "\n",
        "\n",
        "-----------------------------------------------------------------------------\n"
      ],
      "metadata": {
        "id": "ptm8cV0UzN37"
      }
    },
    {
      "cell_type": "code",
      "source": [
        "#ストリームの再開\n",
        "!openai api fine_tunes.follow -i ft-F9eeGRXaucMvUXJG0084RL1a"
      ],
      "metadata": {
        "colab": {
          "base_uri": "https://localhost:8080/"
        },
        "id": "utoUmZKnzENA",
        "outputId": "83149357-25e8-46c5-9d79-5967acd3082d"
      },
      "execution_count": null,
      "outputs": [
        {
          "output_type": "stream",
          "name": "stdout",
          "text": [
            "\u001b[91mError:\u001b[0m No API key provided. You can set your API key in code using 'openai.api_key = <API-KEY>', or you can set the environment variable OPENAI_API_KEY=<API-KEY>). If your API key is stored in a file, you can point the openai module at it with 'openai.api_key_path = <PATH>'. You can generate API keys in the OpenAI web interface. See https://platform.openai.com/account/api-keys for details.\n"
          ]
        }
      ]
    },
    {
      "cell_type": "code",
      "source": [
        "#ジョブの状態確認\n",
        "\n",
        "!openai api fine_tunes.get -i ft-pngkG68MFcvilB9U2q7PEuaj"
      ],
      "metadata": {
        "colab": {
          "base_uri": "https://localhost:8080/"
        },
        "id": "NcUy0sSAzQjJ",
        "outputId": "9da9776b-3ca0-4135-d665-62c08547c029"
      },
      "execution_count": null,
      "outputs": [
        {
          "output_type": "stream",
          "name": "stdout",
          "text": [
            "\u001b[91mError:\u001b[0m No API key provided. You can set your API key in code using 'openai.api_key = <API-KEY>', or you can set the environment variable OPENAI_API_KEY=<API-KEY>). If your API key is stored in a file, you can point the openai module at it with 'openai.api_key_path = <PATH>'. You can generate API keys in the OpenAI web interface. See https://platform.openai.com/account/api-keys for details.\n"
          ]
        }
      ]
    },
    {
      "cell_type": "code",
      "source": [
        "#ファインチューニングのモデル削除\n",
        "\n",
        "!openai api models.delete -i"
      ],
      "metadata": {
        "colab": {
          "base_uri": "https://localhost:8080/"
        },
        "id": "1suIGxw6zSp8",
        "outputId": "178060be-e74a-4236-ff12-08dfef84f04c"
      },
      "execution_count": null,
      "outputs": [
        {
          "output_type": "stream",
          "name": "stdout",
          "text": [
            "usage: openai api models.delete\n",
            "       [-h]\n",
            "       -i\n",
            "       ID\n",
            "openai api models.delete: error: argument -i/--id: expected one argument\n"
          ]
        }
      ]
    },
    {
      "cell_type": "code",
      "source": [
        "#ファインチューニングのモデル一覧取得\n",
        "\n",
        "!openai api fine_tunes.list"
      ],
      "metadata": {
        "colab": {
          "base_uri": "https://localhost:8080/"
        },
        "id": "eVSIW1wWzT3l",
        "outputId": "bee7fc0b-4f55-42c8-8610-02abfd403a53"
      },
      "execution_count": null,
      "outputs": [
        {
          "output_type": "stream",
          "name": "stdout",
          "text": [
            "\u001b[91mError:\u001b[0m No API key provided. You can set your API key in code using 'openai.api_key = <API-KEY>', or you can set the environment variable OPENAI_API_KEY=<API-KEY>). If your API key is stored in a file, you can point the openai module at it with 'openai.api_key_path = <PATH>'. You can generate API keys in the OpenAI web interface. See https://platform.openai.com/account/api-keys for details.\n"
          ]
        }
      ]
    },
    {
      "cell_type": "markdown",
      "source": [
        "## アプリの起動\n",
        "streamlitの`run`コマンドでアプリを起動します。\n"
      ],
      "metadata": {
        "id": "CnobL05MkjB1"
      }
    },
    {
      "cell_type": "code",
      "source": [
        "!streamlit run app.py &>/dev/null&  # 「&>/dev/null&」により、出力を非表示にしてバックグランドジョブとして実行"
      ],
      "metadata": {
        "id": "W0jXlMXWK0vi"
      },
      "execution_count": null,
      "outputs": []
    },
    {
      "cell_type": "markdown",
      "source": [
        "ngrokのプロセスを終了した上で、新たにポートを指定して接続します。  \n",
        "接続の結果、urlを取得できます。  \n",
        "ngrokの無料プランでは同時に1つのプロセスしか動かせないので、エラーが発生した場合は「ランタイム」→「セッションの管理」で不要なGoogle Colabのセッションを修了しましょう。  "
      ],
      "metadata": {
        "id": "W5RLCJ7Sl2x_"
      }
    },
    {
      "cell_type": "code",
      "source": [
        "ngrok.kill()  # プロセスの修了\n",
        "url = ngrok.connect(port=\"8501\")  # 接続"
      ],
      "metadata": {
        "id": "v23ymsdLK3x7",
        "colab": {
          "base_uri": "https://localhost:8080/"
        },
        "outputId": "d2b8590e-791c-4414-afd3-83d778355f0a"
      },
      "execution_count": null,
      "outputs": [
        {
          "output_type": "stream",
          "name": "stderr",
          "text": [
            "INFO:pyngrok.process:ngrok process starting: 3127\n",
            "2023-08-17 05:04:36.642 INFO    pyngrok.process: ngrok process starting: 3127\n",
            "INFO:pyngrok.process:t=2023-08-17T05:04:36+0000 lvl=info msg=\"no configuration paths supplied\"\n",
            "\n",
            "2023-08-17 05:04:36.680 INFO    pyngrok.process: t=2023-08-17T05:04:36+0000 lvl=info msg=\"no configuration paths supplied\"\n",
            "\n",
            "INFO:pyngrok.process:t=2023-08-17T05:04:36+0000 lvl=info msg=\"using configuration at default config path\" path=/root/.ngrok2/ngrok.yml\n",
            "\n",
            "2023-08-17 05:04:36.685 INFO    pyngrok.process: t=2023-08-17T05:04:36+0000 lvl=info msg=\"using configuration at default config path\" path=/root/.ngrok2/ngrok.yml\n",
            "\n",
            "INFO:pyngrok.process:t=2023-08-17T05:04:36+0000 lvl=info msg=\"open config file\" path=/root/.ngrok2/ngrok.yml err=nil\n",
            "\n",
            "2023-08-17 05:04:36.699 INFO    pyngrok.process: t=2023-08-17T05:04:36+0000 lvl=info msg=\"open config file\" path=/root/.ngrok2/ngrok.yml err=nil\n",
            "\n",
            "INFO:pyngrok.process:t=2023-08-17T05:04:36+0000 lvl=info msg=\"starting web service\" obj=web addr=127.0.0.1:4040\n",
            "\n",
            "2023-08-17 05:04:36.719 INFO    pyngrok.process: t=2023-08-17T05:04:36+0000 lvl=info msg=\"starting web service\" obj=web addr=127.0.0.1:4040\n",
            "\n",
            "INFO:pyngrok.process:t=2023-08-17T05:04:37+0000 lvl=info msg=\"tunnel session started\" obj=tunnels.session\n",
            "\n",
            "2023-08-17 05:04:37.480 INFO    pyngrok.process: t=2023-08-17T05:04:37+0000 lvl=info msg=\"tunnel session started\" obj=tunnels.session\n",
            "\n",
            "INFO:pyngrok.process:t=2023-08-17T05:04:37+0000 lvl=info msg=\"client session established\" obj=csess id=5c71c825d92d\n",
            "\n",
            "2023-08-17 05:04:37.485 INFO    pyngrok.process: t=2023-08-17T05:04:37+0000 lvl=info msg=\"client session established\" obj=csess id=5c71c825d92d\n",
            "\n",
            "INFO:pyngrok.process:ngrok process has started: http://127.0.0.1:4040\n",
            "2023-08-17 05:04:37.490 INFO    pyngrok.process: ngrok process has started: http://127.0.0.1:4040\n",
            "INFO:pyngrok.process:t=2023-08-17T05:04:37+0000 lvl=info msg=start pg=/api/tunnels id=01366d6ce4e621e3\n",
            "\n",
            "2023-08-17 05:04:37.504 INFO    pyngrok.process: t=2023-08-17T05:04:37+0000 lvl=info msg=start pg=/api/tunnels id=01366d6ce4e621e3\n",
            "\n",
            "INFO:pyngrok.process:t=2023-08-17T05:04:37+0000 lvl=info msg=end pg=/api/tunnels id=01366d6ce4e621e3 status=200 dur=488.711µs\n",
            "\n",
            "2023-08-17 05:04:37.508 INFO    pyngrok.process: t=2023-08-17T05:04:37+0000 lvl=info msg=end pg=/api/tunnels id=01366d6ce4e621e3 status=200 dur=488.711µs\n",
            "\n",
            "INFO:pyngrok.process:t=2023-08-17T05:04:37+0000 lvl=info msg=start pg=/api/tunnels id=b01f0ea9938606aa\n",
            "\n",
            "2023-08-17 05:04:37.513 INFO    pyngrok.process: t=2023-08-17T05:04:37+0000 lvl=info msg=start pg=/api/tunnels id=b01f0ea9938606aa\n",
            "\n",
            "INFO:pyngrok.process:t=2023-08-17T05:04:37+0000 lvl=info msg=end pg=/api/tunnels id=b01f0ea9938606aa status=200 dur=146.716µs\n",
            "\n",
            "2023-08-17 05:04:37.517 INFO    pyngrok.process: t=2023-08-17T05:04:37+0000 lvl=info msg=end pg=/api/tunnels id=b01f0ea9938606aa status=200 dur=146.716µs\n",
            "\n",
            "INFO:pyngrok.process:t=2023-08-17T05:04:37+0000 lvl=info msg=start pg=/api/tunnels id=7f30961b8076c556\n",
            "\n",
            "2023-08-17 05:04:37.522 INFO    pyngrok.process: t=2023-08-17T05:04:37+0000 lvl=info msg=start pg=/api/tunnels id=7f30961b8076c556\n",
            "\n",
            "INFO:pyngrok.process:t=2023-08-17T05:04:38+0000 lvl=info msg=\"started tunnel\" obj=tunnels name=\"http-8501-5176d654-698c-465d-9252-ad094cf088a5 (http)\" addr=http://localhost:8501 url=http://65f2-34-143-166-196.ngrok-free.app\n",
            "\n",
            "2023-08-17 05:04:38.029 INFO    pyngrok.process: t=2023-08-17T05:04:38+0000 lvl=info msg=\"started tunnel\" obj=tunnels name=\"http-8501-5176d654-698c-465d-9252-ad094cf088a5 (http)\" addr=http://localhost:8501 url=http://65f2-34-143-166-196.ngrok-free.app\n",
            "\n",
            "INFO:pyngrok.process:t=2023-08-17T05:04:38+0000 lvl=info msg=\"started tunnel\" obj=tunnels name=http-8501-5176d654-698c-465d-9252-ad094cf088a5 addr=http://localhost:8501 url=https://65f2-34-143-166-196.ngrok-free.app\n",
            "\n",
            "2023-08-17 05:04:38.037 INFO    pyngrok.process: t=2023-08-17T05:04:38+0000 lvl=info msg=\"started tunnel\" obj=tunnels name=http-8501-5176d654-698c-465d-9252-ad094cf088a5 addr=http://localhost:8501 url=https://65f2-34-143-166-196.ngrok-free.app\n",
            "\n",
            "INFO:pyngrok.process:t=2023-08-17T05:04:38+0000 lvl=info msg=end pg=/api/tunnels id=7f30961b8076c556 status=201 dur=522.979555ms\n",
            "\n"
          ]
        }
      ]
    },
    {
      "cell_type": "markdown",
      "source": [
        "## 動作の確認"
      ],
      "metadata": {
        "id": "8tVONgWNwzZm"
      }
    },
    {
      "cell_type": "markdown",
      "source": [
        "URLのhttpの部分をhttpsに変換する関数を設定します。"
      ],
      "metadata": {
        "id": "OywWF0KBw4y5"
      }
    },
    {
      "cell_type": "code",
      "source": [
        "def convert_http_to_https(url):\n",
        "    if url.startswith(\"http://\"):\n",
        "        url = url.replace(\"http://\", \"https://\", 1)\n",
        "    return url"
      ],
      "metadata": {
        "id": "gaEkk5Dsx0rR",
        "colab": {
          "base_uri": "https://localhost:8080/"
        },
        "outputId": "de9dbd7f-ea87-4d3a-e45a-db7401fa020b"
      },
      "execution_count": null,
      "outputs": [
        {
          "output_type": "stream",
          "name": "stderr",
          "text": [
            "2023-08-17 05:04:38.047 INFO    pyngrok.process: t=2023-08-17T05:04:38+0000 lvl=info msg=end pg=/api/tunnels id=7f30961b8076c556 status=201 dur=522.979555ms\n",
            "\n"
          ]
        }
      ]
    },
    {
      "cell_type": "markdown",
      "source": [
        "変換したurlを表示し、リンク先でチャットボットが動作することを確認します。"
      ],
      "metadata": {
        "id": "NZ0O_pNan57t"
      }
    },
    {
      "cell_type": "code",
      "source": [
        "print(convert_http_to_https(url))"
      ],
      "metadata": {
        "id": "MIY7ositLAXC",
        "colab": {
          "base_uri": "https://localhost:8080/"
        },
        "outputId": "413c3414-e713-4472-8e3e-d1c6de98056c"
      },
      "execution_count": null,
      "outputs": [
        {
          "output_type": "stream",
          "name": "stdout",
          "text": [
            "https://65f2-34-143-166-196.ngrok-free.app\n"
          ]
        }
      ]
    },
    {
      "cell_type": "markdown",
      "source": [
        "チャットボットの動作確認後、OpenAIのサイトでAPIの使用量を確認してみましょう。  \n",
        "https://platform.openai.com/account/usage"
      ],
      "metadata": {
        "id": "B8hdFAd6VIaz"
      }
    }
  ]
}